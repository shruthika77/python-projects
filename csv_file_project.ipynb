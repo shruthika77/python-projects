{
  "nbformat": 4,
  "nbformat_minor": 0,
  "metadata": {
    "colab": {
      "provenance": [],
      "authorship_tag": "ABX9TyOod2bodrdb7dl1tDVrkyF1",
      "include_colab_link": true
    },
    "kernelspec": {
      "name": "python3",
      "display_name": "Python 3"
    },
    "language_info": {
      "name": "python"
    }
  },
  "cells": [
    {
      "cell_type": "markdown",
      "metadata": {
        "id": "view-in-github",
        "colab_type": "text"
      },
      "source": [
        "<a href=\"https://colab.research.google.com/github/shruthika77/python-projects/blob/main/csv_file_project.ipynb\" target=\"_parent\"><img src=\"https://colab.research.google.com/assets/colab-badge.svg\" alt=\"Open In Colab\"/></a>"
      ]
    },
    {
      "cell_type": "code",
      "execution_count": null,
      "metadata": {
        "id": "OWQfWamNHitt"
      },
      "outputs": [],
      "source": [
        "#creating the csv file\n",
        "import numpy as np\n",
        "data=np.random.random((4,30))\n",
        "np.savetxt(\"main.csv\",data,fmt=\"%.2f\",delimiter=\",\",header=\"number1,number2,number3,number4\")"
      ]
    },
    {
      "cell_type": "code",
      "source": [
        "#reading the csv file\n",
        "reading=np.loadtxt(\"main.csv\",delimiter=\",\")\n",
        "reading[:4,:]"
      ],
      "metadata": {
        "colab": {
          "base_uri": "https://localhost:8080/"
        },
        "id": "61JczOmiKTn0",
        "outputId": "4d1ec771-4da0-46bd-b8e7-033002e65e6b"
      },
      "execution_count": null,
      "outputs": [
        {
          "output_type": "execute_result",
          "data": {
            "text/plain": [
              "array([[0.11, 0.94, 0.63, 0.73, 0.25, 0.75, 0.08, 0.22, 0.21, 0.66, 0.45,\n",
              "        0.53, 0.64, 0.4 , 0.34, 0.42, 0.26, 0.05, 0.76, 0.4 , 0.78, 0.97,\n",
              "        0.4 , 0.36, 0.1 , 0.55, 0.74, 0.26, 0.4 , 0.39],\n",
              "       [0.09, 0.17, 0.38, 0.7 , 0.67, 0.55, 0.73, 0.03, 0.5 , 0.03, 0.25,\n",
              "        0.5 , 0.14, 0.69, 0.1 , 0.18, 0.55, 0.86, 0.98, 0.49, 0.33, 0.62,\n",
              "        0.28, 0.27, 0.27, 0.03, 0.43, 0.72, 0.53, 0.18],\n",
              "       [0.05, 0.13, 0.02, 0.41, 0.05, 0.55, 0.5 , 0.85, 0.11, 0.28, 0.38,\n",
              "        0.51, 0.19, 0.54, 0.59, 0.23, 0.91, 0.68, 0.88, 0.78, 0.01, 0.2 ,\n",
              "        0.63, 0.44, 0.45, 0.2 , 0.06, 0.09, 0.27, 0.26],\n",
              "       [0.45, 0.2 , 0.13, 0.58, 0.46, 0.26, 0.48, 0.77, 0.35, 0.38, 0.85,\n",
              "        0.25, 0.53, 0.43, 0.43, 0.23, 0.34, 0.16, 0.53, 0.05, 0.21, 0.06,\n",
              "        0.38, 0.73, 0.47, 0.32, 0.5 , 0.58, 0.59, 0.74]])"
            ]
          },
          "metadata": {},
          "execution_count": 3
        }
      ]
    },
    {
      "cell_type": "code",
      "source": [
        "#writin the pickle file\n",
        "import pickle\n",
        "ordering={\"first\":1,\"second\":2,\"third\":3}\n",
        "pickle.dump(ordering,open(\"new.pkl\",\"wb\"))\n"
      ],
      "metadata": {
        "id": "C40_pWXbMOnW"
      },
      "execution_count": 1,
      "outputs": []
    },
    {
      "cell_type": "code",
      "source": [
        "#reading the json file\n",
        "pickle.load(open(\"new.pkl\",\"rb\"))"
      ],
      "metadata": {
        "id": "2oF1Bc3cQhFT",
        "colab": {
          "base_uri": "https://localhost:8080/"
        },
        "outputId": "7f210971-d72e-422a-9d40-b3aaa9d5a49b"
      },
      "execution_count": 2,
      "outputs": [
        {
          "output_type": "execute_result",
          "data": {
            "text/plain": [
              "{'first': 1, 'second': 2, 'third': 3}"
            ]
          },
          "metadata": {},
          "execution_count": 2
        }
      ]
    },
    {
      "cell_type": "code",
      "source": [
        "#json=java script object notation, faster than pickle, curly braces, .json\n",
        "import json\n",
        "\n",
        "college={\n",
        "  \"collegename\":\"rathinam technical campus\",\n",
        "   \"objective\":\"theme for exceling in engineering\",\n",
        "   \"years\":{\n",
        "      \"year1\":\"sertgb\",\n",
        "      \"year2\":\"rftgyhuj\",\n",
        "      \"year3\":\"iuyt\",\n",
        "      \"year4\":\"ukjhg\",\n",
        "   },\n",
        "   \"dept\":{\n",
        "      \"dept1\":\"electrical\",\n",
        "      \"dept2\":\"mechanical\",\n",
        "      \"dept3\":\"computer science\",\n",
        "   },\n",
        "   \"name\":[1,2,3,4],\n",
        "   \"ID\":[10,20,30,40]}\n",
        "json.dump(college,open(\"new.json\",\"w\"))\n",
        "json.load(open(\"new.json\",\"r\"))"
      ],
      "metadata": {
        "colab": {
          "base_uri": "https://localhost:8080/"
        },
        "id": "8tCe-h11X0qB",
        "outputId": "662e077d-c18d-4e71-fbbb-127ebe808192"
      },
      "execution_count": 15,
      "outputs": [
        {
          "output_type": "execute_result",
          "data": {
            "text/plain": [
              "{'collegename': 'rathinam technical campus',\n",
              " 'objective': 'theme for exceling in engineering',\n",
              " 'years': {'year1': 'sertgb',\n",
              "  'year2': 'rftgyhuj',\n",
              "  'year3': 'iuyt',\n",
              "  'year4': 'ukjhg'},\n",
              " 'dept': {'dept1': 'electrical',\n",
              "  'dept2': 'mechanical',\n",
              "  'dept3': 'computer science'},\n",
              " 'name': [1, 2, 3, 4],\n",
              " 'ID': [10, 20, 30, 40]}"
            ]
          },
          "metadata": {},
          "execution_count": 15
        }
      ]
    }
  ]
}