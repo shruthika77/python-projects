{
 "cells": [
  {
   "cell_type": "code",
   "execution_count": null,
   "id": "9f395553",
   "metadata": {},
   "outputs": [],
   "source": []
  },
  {
   "cell_type": "code",
   "execution_count": null,
   "id": "53cafeae",
   "metadata": {},
   "outputs": [],
   "source": [
    "from time import strftime\n",
    "from tkinter import Label,Tk\n",
    "window=Tk()\n",
    "window.title(\"THE DIGITAL CLOCK\")\n",
    "window.configure(bg=\"black\")\n",
    "window.geometry(\"200x200\")\n",
    "window.resizable(False,False)\n",
    "\n",
    "clock_label=Label(bg=\"black\", fg=\"white\",font=(\"Times\",30,\"bold\"),relief=\"flat\")\n",
    "clock_label.place(x=20,y=10)  \n",
    "\n",
    "def updating_time():\n",
    " current_time=strftime(\"%H: %M: %S\")\n",
    " clock_label.configure(text = current_time)\n",
    " clock_label.after(80,current_time)\n",
    " \n",
    "\n",
    "\n",
    "updating_time()\n",
    "window.mainloop()"
   ]
  },
  {
   "cell_type": "code",
   "execution_count": null,
   "id": "de2d2f73",
   "metadata": {},
   "outputs": [],
   "source": []
  },
  {
   "cell_type": "code",
   "execution_count": null,
   "id": "34369818",
   "metadata": {},
   "outputs": [],
   "source": []
  }
 ],
 "metadata": {
  "kernelspec": {
   "display_name": "Python 3 (ipykernel)",
   "language": "python",
   "name": "python3"
  },
  "language_info": {
   "codemirror_mode": {
    "name": "ipython",
    "version": 3
   },
   "file_extension": ".py",
   "mimetype": "text/x-python",
   "name": "python",
   "nbconvert_exporter": "python",
   "pygments_lexer": "ipython3",
   "version": "3.11.3"
  }
 },
 "nbformat": 4,
 "nbformat_minor": 5
}
