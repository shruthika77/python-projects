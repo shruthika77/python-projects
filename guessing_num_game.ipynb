{
  "nbformat": 4,
  "nbformat_minor": 0,
  "metadata": {
    "colab": {
      "provenance": [],
      "authorship_tag": "ABX9TyOsofwMvvcQHIxsZGzyOxSG",
      "include_colab_link": true
    },
    "kernelspec": {
      "name": "python3",
      "display_name": "Python 3"
    },
    "language_info": {
      "name": "python"
    }
  },
  "cells": [
    {
      "cell_type": "markdown",
      "metadata": {
        "id": "view-in-github",
        "colab_type": "text"
      },
      "source": [
        "<a href=\"https://colab.research.google.com/github/shruthika77/python-projects/blob/main/guessing_num_game.ipynb\" target=\"_parent\"><img src=\"https://colab.research.google.com/assets/colab-badge.svg\" alt=\"Open In Colab\"/></a>"
      ]
    },
    {
      "cell_type": "code",
      "source": [
        "import random\n",
        "\n",
        "def guessing_game(guessing_limit,number):\n",
        " random_number = random.randint(1,number)\n",
        " while guessing_limit > 0:\n",
        "\n",
        "        guess=int(input(\"enter the number:\"))\n",
        "\n",
        "        guessing_limit-=1\n",
        "        if random_number == guess:\n",
        "           print(\"congrats the number is correct\")\n",
        "           break\n",
        "        elif guess > number:\n",
        "           print(\"its out of range\")\n",
        "           print(f\"the guessing limit remaining is{guessing_limit}\")\n",
        "        else:\n",
        "           print(\"its not right value\")\n",
        "           print(f\"the guessing limit remaining is {guessing_limit}\")\n",
        " print(\"game over!!\")\n",
        " print(f\"the random number was {random_number}\")\n",
        " print(\"Only integer are allowed\")\n",
        "\n",
        "\n",
        "def easy():\n",
        "  print(\"guess number between 1 and 10 guess limit is 6 \")\n",
        "  guessing_game(6,10)\n",
        "\n",
        "def medium():\n",
        "  print(\"guess number between 1 and 20 guess limit is 4\")\n",
        "  guessing_game(4,20)\n",
        "\n",
        "def hard():\n",
        "  print(\"guess the number between 1 and 50 guess limit is 3\")\n",
        "  guessing_game(3,50)\n",
        "\n",
        "def try_again():\n",
        "  again=input(\"Do you want to play again? YES/OR: \")\n",
        "  if again.isupper == \"YES\":\n",
        "    welcome()\n",
        "  elif again.isupper == \"NO\":\n",
        "    print(\"thank you for playing\")\n",
        "  else:\n",
        "    print(\"wrong answer\")\n",
        "    try_again()\n",
        "def welcome():\n",
        "  print(\"welcome to guessing numbers game: \")\n",
        "  d=input(\"Enter the diffuculty level(EASY/MEDIUM/HARD): \")\n",
        "  if d ==\"EASY\":\n",
        "    easy()\n",
        "  elif d == \"MEDIUM\":\n",
        "    medium()\n",
        "  elif d == \"HARD\":\n",
        "    hard()\n",
        "  else:\n",
        "    print(\"enter the valid answer\")\n",
        "    welcome()\n",
        "welcome()"
      ],
      "metadata": {
        "colab": {
          "base_uri": "https://localhost:8080/"
        },
        "id": "yQYabrbJYG9s",
        "outputId": "68dc1fa4-3139-4d44-90b1-e67b296f8928"
      },
      "execution_count": 19,
      "outputs": [
        {
          "output_type": "stream",
          "name": "stdout",
          "text": [
            "welcome to guessing numbers game: \n",
            "Enter the diffuculty level(EASY/MEDIUM/HARD): EASY\n",
            "guess number between 1 and 10 guess limit is 6 \n",
            "enter the number:7\n",
            "its not right value\n",
            "the guessing limit remaining is 5\n",
            "enter the number:6\n",
            "its not right value\n",
            "the guessing limit remaining is 4\n",
            "enter the number:5\n",
            "its not right value\n",
            "the guessing limit remaining is 3\n",
            "enter the number:2\n",
            "its not right value\n",
            "the guessing limit remaining is 2\n",
            "enter the number:10\n",
            "its not right value\n",
            "the guessing limit remaining is 1\n",
            "enter the number:1\n",
            "its not right value\n",
            "the guessing limit remaining is 0\n",
            "game over!!\n",
            "the random number was9\n",
            "only number are value\n"
          ]
        }
      ]
    },
    {
      "cell_type": "code",
      "source": [],
      "metadata": {
        "id": "V3Y9a9RSgI7I"
      },
      "execution_count": null,
      "outputs": []
    }
  ]
}