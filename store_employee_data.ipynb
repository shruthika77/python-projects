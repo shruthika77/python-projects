{
  "nbformat": 4,
  "nbformat_minor": 0,
  "metadata": {
    "colab": {
      "provenance": [],
      "authorship_tag": "ABX9TyMJmzItuj3F/Jw+wJXYY9on",
      "include_colab_link": true
    },
    "kernelspec": {
      "name": "python3",
      "display_name": "Python 3"
    },
    "language_info": {
      "name": "python"
    }
  },
  "cells": [
    {
      "cell_type": "markdown",
      "metadata": {
        "id": "view-in-github",
        "colab_type": "text"
      },
      "source": [
        "<a href=\"https://colab.research.google.com/github/shruthika77/python-projects/blob/main/store_employee_data.ipynb\" target=\"_parent\"><img src=\"https://colab.research.google.com/assets/colab-badge.svg\" alt=\"Open In Colab\"/></a>"
      ]
    },
    {
      "cell_type": "code",
      "source": [
        "class employee:\n",
        "  count=0\n",
        "  def __init__(self,name,age,salary):\n",
        "   self.name=name\n",
        "   self.age=age\n",
        "   self.salary=salary\n",
        "   employee.count+=1\n",
        "  def displaycount(self):\n",
        "    print(\"There is a %d employees \" % employee.count)\n",
        "  def display_detials(self):\n",
        "    print(\"NAME=\",self.name, \"AGE=\",self.age, \"SALARY=\",self.salary)\n",
        "emp1=employee(\"employee1\",45,50000)\n",
        "\n",
        "emp3=employee(\"employee2\", 23,45000)\n",
        "emp4=employee(\"employee 3\",56,60000)\n",
        "emp4.displaycount()\n",
        "print(\"employee informations\")\n",
        "emp1.display_detials()\n",
        "\n",
        "emp3.display_detials()\n",
        "emp4.display_detials()"
      ],
      "metadata": {
        "id": "QnZxCHcMk6Od",
        "colab": {
          "base_uri": "https://localhost:8080/"
        },
        "outputId": "f8779261-cb8f-47fa-d931-569bb0ca14ab"
      },
      "execution_count": 11,
      "outputs": [
        {
          "output_type": "stream",
          "name": "stdout",
          "text": [
            "There is a 3 employees \n",
            "employee informations\n",
            "NAME= employee1 AGE= 45 SALARY= 50000\n",
            "NAME= employee2 AGE= 23 SALARY= 45000\n",
            "NAME= employee 3 AGE= 56 SALARY= 60000\n"
          ]
        }
      ]
    }
  ]
}